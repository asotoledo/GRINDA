{
 "cells": [
  {
   "cell_type": "markdown",
   "id": "46fe446c",
   "metadata": {},
   "source": [
    "## GRINDA - Graph-based Intelligence for Network Disruption and Analysis\n",
    "\n",
    "### Justification: \n",
    "The striking name refers to “grinding down” (dismantling) and highlights the network's analytical and disruptive focus.\n",
    "\n",
    "### Graph"
   ]
  },
  {
   "cell_type": "code",
   "execution_count": 1,
   "id": "7168b9ad",
   "metadata": {},
   "outputs": [],
   "source": [
    "import pandas as pd\n",
    "import networkx as nx\n",
    "import plotly.graph_objects as go\n",
    "import pickle\n",
    "import numpy as np\n",
    "import warnings\n",
    "warnings.filterwarnings('ignore')"
   ]
  },
  {
   "cell_type": "code",
   "execution_count": 2,
   "id": "5f9dcda5",
   "metadata": {},
   "outputs": [
    {
     "name": "stdout",
     "output_type": "stream",
     "text": [
      "Author: Alex S.O. Toledo\n",
      "\n"
     ]
    }
   ],
   "source": [
    "%reload_ext watermark\n",
    "%watermark -a \"Alex S.O. Toledo\""
   ]
  },
  {
   "cell_type": "code",
   "execution_count": 3,
   "id": "0618c2ce",
   "metadata": {},
   "outputs": [],
   "source": [
    "class NetworkDisruptor:\n",
    "    def __init__(self, network_number):\n",
    "        # Initialize the disruptor with the network number\n",
    "        self.network_number = network_number\n",
    "        self.graph_type = None\n",
    "        self.channels = None\n",
    "        self.model = None\n",
    "        self.steps_to_disruption = None\n",
    "        self.ranking_df = None\n",
    "        self.edgelist_df = None\n",
    "        self.G_full = None\n",
    "        self.plotter = None\n",
    "\n",
    "    def load_best_model_params(self, csv_path='data/best_models_by_network.csv'):\n",
    "        # Load the best model parameters for the given network from CSV\n",
    "        df = pd.read_csv(csv_path, sep=';')\n",
    "        row = df[df['network'] == self.network_number].iloc[0]\n",
    "        self.graph_type = row['graph']\n",
    "        self.channels = int(row['channels'])\n",
    "        self.model = row['model']\n",
    "        self.steps_to_disruption = int(row['steps_to_disruption'])\n",
    "\n",
    "    def load_ranking(self, pkl_path='data/gt_ranking.pkl'):\n",
    "        # Load the ranking DataFrame for the selected network, channels, and model\n",
    "        with open(pkl_path, 'rb') as f:\n",
    "            ranking_tables = pickle.load(f)\n",
    "        self.ranking_df = ranking_tables[self.network_number][self.channels][self.model]\n",
    "\n",
    "    def load_edgelist(self):\n",
    "        # Load the edgelist for the network from file\n",
    "        edgelist_path = f'data/network_{self.network_number}.edgelist'\n",
    "        self.edgelist_df = pd.read_csv(edgelist_path, delim_whitespace=True, header=None, names=['Source', 'Target', 'Attr'])\n",
    "        self.edgelist_df = self.edgelist_df[['Source', 'Target']]\n",
    "\n",
    "    def build_graph(self):\n",
    "        # Build a directed graph from the edgelist DataFrame\n",
    "        nodes_in_source = set(self.edgelist_df['Source'].dropna())\n",
    "        nodes_in_target = set(self.edgelist_df['Target'].dropna())\n",
    "        all_nodes = nodes_in_source.union(nodes_in_target)\n",
    "        isolated_nodes = set()\n",
    "        # Find isolated nodes (nodes with only one side filled)\n",
    "        if self.edgelist_df['Source'].isnull().any():\n",
    "            isolated_nodes.update(self.edgelist_df.loc[self.edgelist_df['Source'].isnull(), 'Target'].dropna())\n",
    "        if self.edgelist_df['Target'].isnull().any():\n",
    "            isolated_nodes.update(self.edgelist_df.loc[self.edgelist_df['Target'].isnull(), 'Source'].dropna())\n",
    "        all_nodes = all_nodes.union(isolated_nodes)\n",
    "        G = nx.DiGraph()\n",
    "        G.add_nodes_from(all_nodes)\n",
    "        edges = self.edgelist_df.dropna(subset=['Source', 'Target']).values.tolist()\n",
    "        G.add_edges_from(edges)\n",
    "        self.G_full = G\n",
    "\n",
    "    def print_components(self):\n",
    "        # Print network statistics: number of nodes, nodes in largest component, components, and isolated nodes\n",
    "        total_nodes = self.G_full.number_of_nodes()\n",
    "        largest_component_nodes = max(nx.weakly_connected_components(self.G_full), key=len)\n",
    "        num_largest_component_nodes = len(largest_component_nodes)\n",
    "        componentes = total_nodes - num_largest_component_nodes\n",
    "        #print(f\"Total Nodes: {total_nodes}\")\n",
    "        print(f\"Largest Component Nodes: {num_largest_component_nodes}\")\n",
    "        print(f\"Componentes: {componentes}\")\n",
    "        print(\"Isolade Nodes:\", list(nx.isolates(self.G_full)))\n",
    "\n",
    "    def plot_graph(self, title=\"Network Graph\"):\n",
    "        # Plot the current state of the network in 3D\n",
    "        if self.plotter is None:\n",
    "            self.plotter = Network3DPlotter(None)\n",
    "        self.plotter.G = self.G_full\n",
    "        self.plotter.compute_layout(k=30, iterations=1000, seed=42)\n",
    "        self.plotter.plot(title=title)\n",
    "\n",
    "    def disrupt_network(self):\n",
    "        # Remove nodes step by step according to the ranking until steps_to_disruption\n",
    "        for step in range(self.steps_to_disruption):\n",
    "            if step >= len(self.ranking_df):\n",
    "                print(\"Fim do ranking.\")\n",
    "                break\n",
    "            node_to_remove = self.ranking_df.iloc[step]\n",
    "            if node_to_remove in self.G_full:\n",
    "                self.G_full.remove_node(node_to_remove)\n",
    "            print(f\"Step {step+1}: Removed node {node_to_remove}\")\n",
    "            self.print_components()\n",
    "\n",
    "class Network3DPlotter:\n",
    "    def __init__(self, csv_path, source_col='Source', target_col='Target', directed=True):\n",
    "        # Initialize the 3D plotter\n",
    "        self.csv_path = csv_path\n",
    "        self.source_col = source_col\n",
    "        self.target_col = target_col\n",
    "        self.directed = directed\n",
    "        self.df = None\n",
    "        self.G = None\n",
    "        self.pos = None\n",
    "\n",
    "    def compute_layout(self, k=30, iterations=1000, seed=42):\n",
    "        # Compute the 3D layout for the graph nodes\n",
    "        self.pos = nx.spring_layout(self.G, dim=3, seed=seed, k=k, iterations=iterations)\n",
    "\n",
    "    def plot(self, node_color_rgba='rgba(142,202,230,0.6)', node_border_color='rgba(2,48,71,1)',\n",
    "             node_size=20, node_font_size=13, node_opacity=0.7, title=\"Initial Network Graph\"):\n",
    "        # Plot the graph in 3D using Plotly\n",
    "        Xn = [self.pos[k][0] for k in self.G.nodes()]\n",
    "        Yn = [self.pos[k][1] for k in self.G.nodes()]\n",
    "        Zn = [self.pos[k][2] for k in self.G.nodes()]\n",
    "        labels = [str(n) for n in self.G.nodes()]\n",
    "        Xe, Ye, Ze = [], [], []\n",
    "        for e in self.G.edges():\n",
    "            Xe += [self.pos[e[0]][0], self.pos[e[1]][0], None]\n",
    "            Ye += [self.pos[e[0]][1], self.pos[e[1]][1], None]\n",
    "            Ze += [self.pos[e[0]][2], self.pos[e[1]][2], None]\n",
    "        fig = go.Figure()\n",
    "        fig.add_trace(go.Scatter3d(\n",
    "            x=Xe, y=Ye, z=Ze,\n",
    "            mode='lines',\n",
    "            line=dict(color='gray', width=2),\n",
    "            hoverinfo='none'\n",
    "        ))\n",
    "        fig.add_trace(go.Scatter3d(\n",
    "            x=Xn, y=Yn, z=Zn,\n",
    "            mode='markers+text',\n",
    "            marker=dict(\n",
    "                symbol='circle',\n",
    "                size=node_size,\n",
    "                color=node_color_rgba,\n",
    "                line=dict(color=node_border_color, width=3),\n",
    "                opacity=node_opacity\n",
    "            ),\n",
    "            text=labels,\n",
    "            textposition=\"middle center\",\n",
    "            textfont=dict(size=node_font_size, color='black'),\n",
    "            hoverinfo='text'\n",
    "        ))\n",
    "        fig.update_layout(\n",
    "            title=title,\n",
    "            showlegend=False,\n",
    "            scene=dict(\n",
    "                xaxis=dict(showbackground=False, showticklabels=False, visible=False),\n",
    "                yaxis=dict(showbackground=False, showticklabels=False, visible=False),\n",
    "                zaxis=dict(showbackground=False, showticklabels=False, visible=False),\n",
    "            ),\n",
    "            margin=dict(l=0, r=0, b=0, t=40),\n",
    "            width=1200,\n",
    "            height=1000,\n",
    "            paper_bgcolor='rgba(0,0,0,0)',\n",
    "            plot_bgcolor='rgba(0,0,0,0)'\n",
    "        )\n",
    "        fig.show()"
   ]
  },
  {
   "cell_type": "code",
   "execution_count": 4,
   "id": "1eac619a",
   "metadata": {},
   "outputs": [
    {
     "name": "stdout",
     "output_type": "stream",
     "text": [
      "Graph before disruption:\n",
      "Total Nodes: 45\n"
     ]
    },
    {
     "data": {
      "application/vnd.plotly.v1+json": {
       "config": {
        "plotlyServerURL": "https://plot.ly"
       },
       "data": [
        {
         "hoverinfo": "none",
         "line": {
          "color": "gray",
          "width": 2
         },
         "mode": "lines",
         "type": "scatter3d",
         "x": [
          0.011953126958472685,
          0.7495495732599988,
          null,
          0.011953126958472685,
          -0.8607740873770043,
          null,
          0.011953126958472685,
          -0.3654205304361576,
          null,
          0.45521408867689384,
          -0.3001557026318028,
          null,
          -0.5574461737691898,
          0.24759413565673086,
          null,
          -0.5574461737691898,
          0.1817032449177905,
          null,
          -0.5574461737691898,
          -0.6129095934402637,
          null,
          -0.5574461737691898,
          -0.2720715120237187,
          null,
          -0.5574461737691898,
          0.6495750323130567,
          null,
          0.43942965432325604,
          -0.8607740873770043,
          null,
          0.7495495732599988,
          -0.3654205304361576,
          null,
          0.7495495732599988,
          -0.8607740873770043,
          null,
          -0.5617150433563987,
          -0.007294414740671225,
          null,
          -0.5617150433563987,
          -0.2720715120237187,
          null,
          -0.5617150433563987,
          0.8418171294665031,
          null,
          -0.5617150433563987,
          0.9311293122211803,
          null,
          -0.5617150433563987,
          -0.7764612417072279,
          null,
          -0.5617150433563987,
          -0.3001557026318028,
          null,
          -0.04698628276695572,
          0.39672224051038796,
          null,
          -0.04698628276695572,
          -0.538207484768357,
          null,
          0.9311293122211803,
          -0.8133117647721182,
          null,
          -0.1626352899495626,
          -0.9496395718668347,
          null,
          -0.1626352899495626,
          0.8123335058978773,
          null,
          -0.1626352899495626,
          -0.538207484768357,
          null,
          -0.1626352899495626,
          0.6113031792327335,
          null,
          0.34947208798806373,
          -0.5617150433563987,
          null,
          0.9999999999999999,
          -0.5617150433563987,
          null,
          0.6113031792327335,
          0.17005462096563345,
          null,
          0.6495750323130567,
          0.24759413565673086,
          null,
          0.6495750323130567,
          -0.6129095934402637,
          null,
          -0.17304860141790931,
          -0.5617150433563987,
          null,
          -0.17304860141790931,
          -0.538207484768357,
          null,
          -0.17304860141790931,
          -0.8607740873770043,
          null,
          0.1817032449177905,
          0.24759413565673086,
          null,
          0.1817032449177905,
          0.6495750323130567,
          null,
          0.1817032449177905,
          -0.6129095934402637,
          null,
          0.01594643698158006,
          0.5839031379361778,
          null,
          0.01594643698158006,
          -0.058159467834475294,
          null,
          -0.5608647268906067,
          0.17005462096563345,
          null,
          0.9841311583823651,
          -0.36004195588019144,
          null,
          -0.9496395718668347,
          0.6113031792327335,
          null,
          -0.9496395718668347,
          0.17005462096563345,
          null,
          0.39672224051038796,
          -0.8607740873770043,
          null,
          0.39672224051038796,
          -0.538207484768357,
          null,
          -0.007294414740671225,
          -0.3001557026318028,
          null,
          0.6885855368990783,
          -0.8607740873770043,
          null,
          -0.2720715120237187,
          0.8418171294665031,
          null,
          0.2751527492958802,
          -0.3654205304361576,
          null,
          -0.6129095934402637,
          0.24759413565673086,
          null,
          0.5839031379361778,
          0.39672224051038796,
          null,
          0.5839031379361778,
          -0.058159467834475294,
          null,
          0.5839031379361778,
          -0.538207484768357,
          null,
          -0.28396160599717746,
          -0.3654205304361576,
          null,
          -0.6928916720081997,
          -0.538207484768357,
          null,
          -0.8607740873770043,
          -0.538207484768357,
          null,
          -0.8607740873770043,
          -0.7764612417072279,
          null,
          -0.36004195588019144,
          0.17005462096563345,
          null,
          0.1576774094048408,
          -0.5617150433563987,
          null,
          -0.42928631338430134,
          -0.538207484768357,
          null,
          -0.8798262979140452,
          0.8123335058978773,
          null,
          0.3290408836120535,
          -0.8607740873770043,
          null,
          0.3290408836120535,
          -0.5617150433563987,
          null,
          -0.6191789099673859,
          -0.36004195588019144,
          null
         ],
         "y": [
          0.7823272705241677,
          -0.5900628530363262,
          null,
          0.7823272705241677,
          0.02804199622038022,
          null,
          0.7823272705241677,
          -0.621497214495915,
          null,
          -0.7527301145959229,
          0.764377826920694,
          null,
          0.5512898272954045,
          -0.17884965501847153,
          null,
          0.5512898272954045,
          -0.13299048044714756,
          null,
          0.5512898272954045,
          0.4755105672121055,
          null,
          0.5512898272954045,
          -0.5185333815759586,
          null,
          0.5512898272954045,
          0.39066495878275487,
          null,
          -0.7117310075346313,
          0.02804199622038022,
          null,
          -0.5900628530363262,
          -0.621497214495915,
          null,
          -0.5900628530363262,
          0.02804199622038022,
          null,
          -0.14973447189591937,
          -0.7285180425044204,
          null,
          -0.14973447189591937,
          -0.5185333815759586,
          null,
          -0.14973447189591937,
          -0.41906034180171836,
          null,
          -0.14973447189591937,
          0.37542324119437853,
          null,
          -0.14973447189591937,
          0.5424171388535618,
          null,
          -0.14973447189591937,
          0.764377826920694,
          null,
          0.2717888498997027,
          0.13651945089059883,
          null,
          0.2717888498997027,
          -0.8066631613963465,
          null,
          0.37542324119437853,
          -0.10119572724614297,
          null,
          -0.871248853765754,
          0.17875241987119783,
          null,
          -0.871248853765754,
          0.6487249382910235,
          null,
          -0.871248853765754,
          -0.8066631613963465,
          null,
          -0.871248853765754,
          -0.2890795774888241,
          null,
          -0.952025026031954,
          -0.14973447189591937,
          null,
          -0.22756551368269456,
          -0.14973447189591937,
          null,
          -0.2890795774888241,
          -0.6627697808764094,
          null,
          0.39066495878275487,
          -0.17884965501847153,
          null,
          0.39066495878275487,
          0.4755105672121055,
          null,
          0.6779396606955064,
          -0.14973447189591937,
          null,
          0.6779396606955064,
          -0.8066631613963465,
          null,
          0.6779396606955064,
          0.02804199622038022,
          null,
          -0.13299048044714756,
          -0.17884965501847153,
          null,
          -0.13299048044714756,
          0.39066495878275487,
          null,
          -0.13299048044714756,
          0.4755105672121055,
          null,
          -0.9189066408676491,
          0.7207623404237689,
          null,
          -0.9189066408676491,
          0.2564467391636806,
          null,
          0.24966776851828842,
          -0.6627697808764094,
          null,
          0.26569204545313935,
          0.8175730567072084,
          null,
          0.17875241987119783,
          -0.2890795774888241,
          null,
          0.17875241987119783,
          -0.6627697808764094,
          null,
          0.13651945089059883,
          0.02804199622038022,
          null,
          0.13651945089059883,
          -0.8066631613963465,
          null,
          -0.7285180425044204,
          0.764377826920694,
          null,
          -0.2950090560323443,
          0.02804199622038022,
          null,
          -0.5185333815759586,
          -0.41906034180171836,
          null,
          0.977188035745996,
          -0.621497214495915,
          null,
          0.4755105672121055,
          -0.17884965501847153,
          null,
          0.7207623404237689,
          0.13651945089059883,
          null,
          0.7207623404237689,
          0.2564467391636806,
          null,
          0.7207623404237689,
          -0.8066631613963465,
          null,
          -0.17735336894051762,
          -0.621497214495915,
          null,
          -0.7045577575433982,
          -0.8066631613963465,
          null,
          0.02804199622038022,
          -0.8066631613963465,
          null,
          0.02804199622038022,
          0.5424171388535618,
          null,
          0.8175730567072084,
          -0.6627697808764094,
          null,
          0.6257102032617164,
          -0.14973447189591937,
          null,
          0.9271803267612991,
          -0.8066631613963465,
          null,
          -0.3633191865985684,
          0.6487249382910235,
          null,
          0.707163530284502,
          0.02804199622038022,
          null,
          0.707163530284502,
          -0.14973447189591937,
          null,
          -0.19776097959404149,
          0.8175730567072084,
          null
         ],
         "z": [
          0.18935185163333706,
          -0.28027576177438984,
          null,
          0.18935185163333706,
          0.5256109946661965,
          null,
          0.18935185163333706,
          -0.7193845009444315,
          null,
          -0.5051934633298355,
          -0.6335682711069972,
          null,
          0.30155002613676485,
          -0.9819205546855966,
          null,
          0.30155002613676485,
          0.9908526771926572,
          null,
          0.30155002613676485,
          0.6737819742483296,
          null,
          0.30155002613676485,
          0.8270781618596277,
          null,
          0.30155002613676485,
          0.7164283825961448,
          null,
          0.5908059337362239,
          0.5256109946661965,
          null,
          -0.28027576177438984,
          -0.7193845009444315,
          null,
          -0.28027576177438984,
          0.5256109946661965,
          null,
          0.2397699177371369,
          0.7117833326163331,
          null,
          0.2397699177371369,
          0.8270781618596277,
          null,
          0.2397699177371369,
          0.41371986943150907,
          null,
          0.2397699177371369,
          0.2915915799726392,
          null,
          0.2397699177371369,
          -0.4145463199098898,
          null,
          0.2397699177371369,
          -0.6335682711069972,
          null,
          -0.9935336186225718,
          -0.8781391526057335,
          null,
          -0.9935336186225718,
          -0.2992437571745531,
          null,
          0.2915915799726392,
          -0.6045988061185313,
          null,
          0.4193305183839493,
          0.17067788507349663,
          null,
          0.4193305183839493,
          -0.1611559190902515,
          null,
          0.4193305183839493,
          -0.2992437571745531,
          null,
          0.4193305183839493,
          0.7704927546918446,
          null,
          0.0711501725464644,
          0.2397699177371369,
          null,
          0.1318677992229155,
          0.2397699177371369,
          null,
          0.7704927546918446,
          -0.7638026308162522,
          null,
          0.7164283825961448,
          -0.9819205546855966,
          null,
          0.7164283825961448,
          0.6737819742483296,
          null,
          -0.5000764972421747,
          0.2397699177371369,
          null,
          -0.5000764972421747,
          -0.2992437571745531,
          null,
          -0.5000764972421747,
          0.5256109946661965,
          null,
          0.9908526771926572,
          -0.9819205546855966,
          null,
          0.9908526771926572,
          0.7164283825961448,
          null,
          0.9908526771926572,
          0.6737819742483296,
          null,
          0.031057511171758076,
          0.23985448585850094,
          null,
          0.031057511171758076,
          0.9992546943848217,
          null,
          -0.8240771394024574,
          -0.7638026308162522,
          null,
          -0.2178967280999563,
          0.5287562101153738,
          null,
          0.17067788507349663,
          0.7704927546918446,
          null,
          0.17067788507349663,
          -0.7638026308162522,
          null,
          -0.8781391526057335,
          0.5256109946661965,
          null,
          -0.8781391526057335,
          -0.2992437571745531,
          null,
          0.7117833326163331,
          -0.6335682711069972,
          null,
          -0.7131986915832488,
          0.5256109946661965,
          null,
          0.8270781618596277,
          0.41371986943150907,
          null,
          -0.20808871611016594,
          -0.7193845009444315,
          null,
          0.6737819742483296,
          -0.9819205546855966,
          null,
          0.23985448585850094,
          -0.8781391526057335,
          null,
          0.23985448585850094,
          0.9992546943848217,
          null,
          0.23985448585850094,
          -0.2992437571745531,
          null,
          -0.9682095844671791,
          -0.7193845009444315,
          null,
          0.23194791237365348,
          -0.2992437571745531,
          null,
          0.5256109946661965,
          -0.2992437571745531,
          null,
          0.5256109946661965,
          -0.4145463199098898,
          null,
          0.5287562101153738,
          -0.7638026308162522,
          null,
          0.8153066946229418,
          0.2397699177371369,
          null,
          -0.11865542960872681,
          -0.2992437571745531,
          null,
          -0.3280928127468216,
          -0.1611559190902515,
          null,
          -0.5550863468282081,
          0.5256109946661965,
          null,
          -0.5550863468282081,
          0.2397699177371369,
          null,
          0.7867233619953525,
          0.5287562101153738,
          null
         ]
        },
        {
         "hoverinfo": "text",
         "marker": {
          "color": "rgba(142,202,230,0.6)",
          "line": {
           "color": "rgba(2,48,71,1)",
           "width": 3
          },
          "opacity": 0.7,
          "size": 20,
          "symbol": "circle"
         },
         "mode": "markers+text",
         "text": [
          "LRYV",
          "HGUT",
          "UOZG",
          "SZZN",
          "K6DW",
          "CTTP",
          "KGOY",
          "ZAJW",
          "H6GS",
          "EWPY",
          "WSUM",
          "TEY6",
          "KGCR",
          "PFGC",
          "WYF7",
          "O1IA",
          "JDH2",
          "Z8RI",
          "KVMR",
          "IMDF",
          "QRZA",
          "N6QV",
          "EQE1",
          "JIAO",
          "EYD7",
          "ANL3",
          "CYAS",
          "DKN3",
          "Y1V5",
          "X7QG",
          "FREK",
          "FJVL",
          "HCGF",
          "MQOT",
          "IBM9",
          "QRJ5",
          "H2XI",
          "QWCT",
          "GXHD",
          "BBJA",
          "X4Q6",
          "YFV7",
          "ALUX",
          "XDED",
          "FKTD"
         ],
         "textfont": {
          "color": "black",
          "size": 13
         },
         "textposition": "middle center",
         "type": "scatter3d",
         "x": [
          0.011953126958472685,
          0.45521408867689384,
          -0.5574461737691898,
          0.43942965432325604,
          0.7495495732599988,
          -0.5617150433563987,
          0.8418171294665031,
          -0.8133117647721182,
          -0.3001557026318028,
          -0.04698628276695572,
          0.17005462096563345,
          0.9311293122211803,
          -0.1626352899495626,
          0.34947208798806373,
          -0.7764612417072279,
          0.9999999999999999,
          0.6113031792327335,
          0.6495750323130567,
          -0.17304860141790931,
          -0.538207484768357,
          0.1817032449177905,
          0.01594643698158006,
          -0.5608647268906067,
          0.9841311583823651,
          -0.9496395718668347,
          0.39672224051038796,
          -0.007294414740671225,
          0.6885855368990783,
          -0.2720715120237187,
          0.2751527492958802,
          -0.6129095934402637,
          0.5839031379361778,
          -0.28396160599717746,
          -0.6928916720081997,
          -0.058159467834475294,
          -0.8607740873770043,
          -0.3654205304361576,
          -0.36004195588019144,
          0.1576774094048408,
          -0.42928631338430134,
          0.8123335058978773,
          -0.8798262979140452,
          0.3290408836120535,
          0.24759413565673086,
          -0.6191789099673859
         ],
         "y": [
          0.7823272705241677,
          -0.7527301145959229,
          0.5512898272954045,
          -0.7117310075346313,
          -0.5900628530363262,
          -0.14973447189591937,
          -0.41906034180171836,
          -0.10119572724614297,
          0.764377826920694,
          0.2717888498997027,
          -0.6627697808764094,
          0.37542324119437853,
          -0.871248853765754,
          -0.952025026031954,
          0.5424171388535618,
          -0.22756551368269456,
          -0.2890795774888241,
          0.39066495878275487,
          0.6779396606955064,
          -0.8066631613963465,
          -0.13299048044714756,
          -0.9189066408676491,
          0.24966776851828842,
          0.26569204545313935,
          0.17875241987119783,
          0.13651945089059883,
          -0.7285180425044204,
          -0.2950090560323443,
          -0.5185333815759586,
          0.977188035745996,
          0.4755105672121055,
          0.7207623404237689,
          -0.17735336894051762,
          -0.7045577575433982,
          0.2564467391636806,
          0.02804199622038022,
          -0.621497214495915,
          0.8175730567072084,
          0.6257102032617164,
          0.9271803267612991,
          0.6487249382910235,
          -0.3633191865985684,
          0.707163530284502,
          -0.17884965501847153,
          -0.19776097959404149
         ],
         "z": [
          0.18935185163333706,
          -0.5051934633298355,
          0.30155002613676485,
          0.5908059337362239,
          -0.28027576177438984,
          0.2397699177371369,
          0.41371986943150907,
          -0.6045988061185313,
          -0.6335682711069972,
          -0.9935336186225718,
          -0.7638026308162522,
          0.2915915799726392,
          0.4193305183839493,
          0.0711501725464644,
          -0.4145463199098898,
          0.1318677992229155,
          0.7704927546918446,
          0.7164283825961448,
          -0.5000764972421747,
          -0.2992437571745531,
          0.9908526771926572,
          0.031057511171758076,
          -0.8240771394024574,
          -0.2178967280999563,
          0.17067788507349663,
          -0.8781391526057335,
          0.7117833326163331,
          -0.7131986915832488,
          0.8270781618596277,
          -0.20808871611016594,
          0.6737819742483296,
          0.23985448585850094,
          -0.9682095844671791,
          0.23194791237365348,
          0.9992546943848217,
          0.5256109946661965,
          -0.7193845009444315,
          0.5287562101153738,
          0.8153066946229418,
          -0.11865542960872681,
          -0.1611559190902515,
          -0.3280928127468216,
          -0.5550863468282081,
          -0.9819205546855966,
          0.7867233619953525
         ]
        }
       ],
       "layout": {
        "height": 1000,
        "margin": {
         "b": 0,
         "l": 0,
         "r": 0,
         "t": 40
        },
        "paper_bgcolor": "rgba(0,0,0,0)",
        "plot_bgcolor": "rgba(0,0,0,0)",
        "scene": {
         "xaxis": {
          "showbackground": false,
          "showticklabels": false,
          "visible": false
         },
         "yaxis": {
          "showbackground": false,
          "showticklabels": false,
          "visible": false
         },
         "zaxis": {
          "showbackground": false,
          "showticklabels": false,
          "visible": false
         }
        },
        "showlegend": false,
        "template": {
         "data": {
          "bar": [
           {
            "error_x": {
             "color": "#2a3f5f"
            },
            "error_y": {
             "color": "#2a3f5f"
            },
            "marker": {
             "line": {
              "color": "#E5ECF6",
              "width": 0.5
             },
             "pattern": {
              "fillmode": "overlay",
              "size": 10,
              "solidity": 0.2
             }
            },
            "type": "bar"
           }
          ],
          "barpolar": [
           {
            "marker": {
             "line": {
              "color": "#E5ECF6",
              "width": 0.5
             },
             "pattern": {
              "fillmode": "overlay",
              "size": 10,
              "solidity": 0.2
             }
            },
            "type": "barpolar"
           }
          ],
          "carpet": [
           {
            "aaxis": {
             "endlinecolor": "#2a3f5f",
             "gridcolor": "white",
             "linecolor": "white",
             "minorgridcolor": "white",
             "startlinecolor": "#2a3f5f"
            },
            "baxis": {
             "endlinecolor": "#2a3f5f",
             "gridcolor": "white",
             "linecolor": "white",
             "minorgridcolor": "white",
             "startlinecolor": "#2a3f5f"
            },
            "type": "carpet"
           }
          ],
          "choropleth": [
           {
            "colorbar": {
             "outlinewidth": 0,
             "ticks": ""
            },
            "type": "choropleth"
           }
          ],
          "contour": [
           {
            "colorbar": {
             "outlinewidth": 0,
             "ticks": ""
            },
            "colorscale": [
             [
              0,
              "#0d0887"
             ],
             [
              0.1111111111111111,
              "#46039f"
             ],
             [
              0.2222222222222222,
              "#7201a8"
             ],
             [
              0.3333333333333333,
              "#9c179e"
             ],
             [
              0.4444444444444444,
              "#bd3786"
             ],
             [
              0.5555555555555556,
              "#d8576b"
             ],
             [
              0.6666666666666666,
              "#ed7953"
             ],
             [
              0.7777777777777778,
              "#fb9f3a"
             ],
             [
              0.8888888888888888,
              "#fdca26"
             ],
             [
              1,
              "#f0f921"
             ]
            ],
            "type": "contour"
           }
          ],
          "contourcarpet": [
           {
            "colorbar": {
             "outlinewidth": 0,
             "ticks": ""
            },
            "type": "contourcarpet"
           }
          ],
          "heatmap": [
           {
            "colorbar": {
             "outlinewidth": 0,
             "ticks": ""
            },
            "colorscale": [
             [
              0,
              "#0d0887"
             ],
             [
              0.1111111111111111,
              "#46039f"
             ],
             [
              0.2222222222222222,
              "#7201a8"
             ],
             [
              0.3333333333333333,
              "#9c179e"
             ],
             [
              0.4444444444444444,
              "#bd3786"
             ],
             [
              0.5555555555555556,
              "#d8576b"
             ],
             [
              0.6666666666666666,
              "#ed7953"
             ],
             [
              0.7777777777777778,
              "#fb9f3a"
             ],
             [
              0.8888888888888888,
              "#fdca26"
             ],
             [
              1,
              "#f0f921"
             ]
            ],
            "type": "heatmap"
           }
          ],
          "heatmapgl": [
           {
            "colorbar": {
             "outlinewidth": 0,
             "ticks": ""
            },
            "colorscale": [
             [
              0,
              "#0d0887"
             ],
             [
              0.1111111111111111,
              "#46039f"
             ],
             [
              0.2222222222222222,
              "#7201a8"
             ],
             [
              0.3333333333333333,
              "#9c179e"
             ],
             [
              0.4444444444444444,
              "#bd3786"
             ],
             [
              0.5555555555555556,
              "#d8576b"
             ],
             [
              0.6666666666666666,
              "#ed7953"
             ],
             [
              0.7777777777777778,
              "#fb9f3a"
             ],
             [
              0.8888888888888888,
              "#fdca26"
             ],
             [
              1,
              "#f0f921"
             ]
            ],
            "type": "heatmapgl"
           }
          ],
          "histogram": [
           {
            "marker": {
             "pattern": {
              "fillmode": "overlay",
              "size": 10,
              "solidity": 0.2
             }
            },
            "type": "histogram"
           }
          ],
          "histogram2d": [
           {
            "colorbar": {
             "outlinewidth": 0,
             "ticks": ""
            },
            "colorscale": [
             [
              0,
              "#0d0887"
             ],
             [
              0.1111111111111111,
              "#46039f"
             ],
             [
              0.2222222222222222,
              "#7201a8"
             ],
             [
              0.3333333333333333,
              "#9c179e"
             ],
             [
              0.4444444444444444,
              "#bd3786"
             ],
             [
              0.5555555555555556,
              "#d8576b"
             ],
             [
              0.6666666666666666,
              "#ed7953"
             ],
             [
              0.7777777777777778,
              "#fb9f3a"
             ],
             [
              0.8888888888888888,
              "#fdca26"
             ],
             [
              1,
              "#f0f921"
             ]
            ],
            "type": "histogram2d"
           }
          ],
          "histogram2dcontour": [
           {
            "colorbar": {
             "outlinewidth": 0,
             "ticks": ""
            },
            "colorscale": [
             [
              0,
              "#0d0887"
             ],
             [
              0.1111111111111111,
              "#46039f"
             ],
             [
              0.2222222222222222,
              "#7201a8"
             ],
             [
              0.3333333333333333,
              "#9c179e"
             ],
             [
              0.4444444444444444,
              "#bd3786"
             ],
             [
              0.5555555555555556,
              "#d8576b"
             ],
             [
              0.6666666666666666,
              "#ed7953"
             ],
             [
              0.7777777777777778,
              "#fb9f3a"
             ],
             [
              0.8888888888888888,
              "#fdca26"
             ],
             [
              1,
              "#f0f921"
             ]
            ],
            "type": "histogram2dcontour"
           }
          ],
          "mesh3d": [
           {
            "colorbar": {
             "outlinewidth": 0,
             "ticks": ""
            },
            "type": "mesh3d"
           }
          ],
          "parcoords": [
           {
            "line": {
             "colorbar": {
              "outlinewidth": 0,
              "ticks": ""
             }
            },
            "type": "parcoords"
           }
          ],
          "pie": [
           {
            "automargin": true,
            "type": "pie"
           }
          ],
          "scatter": [
           {
            "fillpattern": {
             "fillmode": "overlay",
             "size": 10,
             "solidity": 0.2
            },
            "type": "scatter"
           }
          ],
          "scatter3d": [
           {
            "line": {
             "colorbar": {
              "outlinewidth": 0,
              "ticks": ""
             }
            },
            "marker": {
             "colorbar": {
              "outlinewidth": 0,
              "ticks": ""
             }
            },
            "type": "scatter3d"
           }
          ],
          "scattercarpet": [
           {
            "marker": {
             "colorbar": {
              "outlinewidth": 0,
              "ticks": ""
             }
            },
            "type": "scattercarpet"
           }
          ],
          "scattergeo": [
           {
            "marker": {
             "colorbar": {
              "outlinewidth": 0,
              "ticks": ""
             }
            },
            "type": "scattergeo"
           }
          ],
          "scattergl": [
           {
            "marker": {
             "colorbar": {
              "outlinewidth": 0,
              "ticks": ""
             }
            },
            "type": "scattergl"
           }
          ],
          "scattermapbox": [
           {
            "marker": {
             "colorbar": {
              "outlinewidth": 0,
              "ticks": ""
             }
            },
            "type": "scattermapbox"
           }
          ],
          "scatterpolar": [
           {
            "marker": {
             "colorbar": {
              "outlinewidth": 0,
              "ticks": ""
             }
            },
            "type": "scatterpolar"
           }
          ],
          "scatterpolargl": [
           {
            "marker": {
             "colorbar": {
              "outlinewidth": 0,
              "ticks": ""
             }
            },
            "type": "scatterpolargl"
           }
          ],
          "scatterternary": [
           {
            "marker": {
             "colorbar": {
              "outlinewidth": 0,
              "ticks": ""
             }
            },
            "type": "scatterternary"
           }
          ],
          "surface": [
           {
            "colorbar": {
             "outlinewidth": 0,
             "ticks": ""
            },
            "colorscale": [
             [
              0,
              "#0d0887"
             ],
             [
              0.1111111111111111,
              "#46039f"
             ],
             [
              0.2222222222222222,
              "#7201a8"
             ],
             [
              0.3333333333333333,
              "#9c179e"
             ],
             [
              0.4444444444444444,
              "#bd3786"
             ],
             [
              0.5555555555555556,
              "#d8576b"
             ],
             [
              0.6666666666666666,
              "#ed7953"
             ],
             [
              0.7777777777777778,
              "#fb9f3a"
             ],
             [
              0.8888888888888888,
              "#fdca26"
             ],
             [
              1,
              "#f0f921"
             ]
            ],
            "type": "surface"
           }
          ],
          "table": [
           {
            "cells": {
             "fill": {
              "color": "#EBF0F8"
             },
             "line": {
              "color": "white"
             }
            },
            "header": {
             "fill": {
              "color": "#C8D4E3"
             },
             "line": {
              "color": "white"
             }
            },
            "type": "table"
           }
          ]
         },
         "layout": {
          "annotationdefaults": {
           "arrowcolor": "#2a3f5f",
           "arrowhead": 0,
           "arrowwidth": 1
          },
          "autotypenumbers": "strict",
          "coloraxis": {
           "colorbar": {
            "outlinewidth": 0,
            "ticks": ""
           }
          },
          "colorscale": {
           "diverging": [
            [
             0,
             "#8e0152"
            ],
            [
             0.1,
             "#c51b7d"
            ],
            [
             0.2,
             "#de77ae"
            ],
            [
             0.3,
             "#f1b6da"
            ],
            [
             0.4,
             "#fde0ef"
            ],
            [
             0.5,
             "#f7f7f7"
            ],
            [
             0.6,
             "#e6f5d0"
            ],
            [
             0.7,
             "#b8e186"
            ],
            [
             0.8,
             "#7fbc41"
            ],
            [
             0.9,
             "#4d9221"
            ],
            [
             1,
             "#276419"
            ]
           ],
           "sequential": [
            [
             0,
             "#0d0887"
            ],
            [
             0.1111111111111111,
             "#46039f"
            ],
            [
             0.2222222222222222,
             "#7201a8"
            ],
            [
             0.3333333333333333,
             "#9c179e"
            ],
            [
             0.4444444444444444,
             "#bd3786"
            ],
            [
             0.5555555555555556,
             "#d8576b"
            ],
            [
             0.6666666666666666,
             "#ed7953"
            ],
            [
             0.7777777777777778,
             "#fb9f3a"
            ],
            [
             0.8888888888888888,
             "#fdca26"
            ],
            [
             1,
             "#f0f921"
            ]
           ],
           "sequentialminus": [
            [
             0,
             "#0d0887"
            ],
            [
             0.1111111111111111,
             "#46039f"
            ],
            [
             0.2222222222222222,
             "#7201a8"
            ],
            [
             0.3333333333333333,
             "#9c179e"
            ],
            [
             0.4444444444444444,
             "#bd3786"
            ],
            [
             0.5555555555555556,
             "#d8576b"
            ],
            [
             0.6666666666666666,
             "#ed7953"
            ],
            [
             0.7777777777777778,
             "#fb9f3a"
            ],
            [
             0.8888888888888888,
             "#fdca26"
            ],
            [
             1,
             "#f0f921"
            ]
           ]
          },
          "colorway": [
           "#636efa",
           "#EF553B",
           "#00cc96",
           "#ab63fa",
           "#FFA15A",
           "#19d3f3",
           "#FF6692",
           "#B6E880",
           "#FF97FF",
           "#FECB52"
          ],
          "font": {
           "color": "#2a3f5f"
          },
          "geo": {
           "bgcolor": "white",
           "lakecolor": "white",
           "landcolor": "#E5ECF6",
           "showlakes": true,
           "showland": true,
           "subunitcolor": "white"
          },
          "hoverlabel": {
           "align": "left"
          },
          "hovermode": "closest",
          "mapbox": {
           "style": "light"
          },
          "paper_bgcolor": "white",
          "plot_bgcolor": "#E5ECF6",
          "polar": {
           "angularaxis": {
            "gridcolor": "white",
            "linecolor": "white",
            "ticks": ""
           },
           "bgcolor": "#E5ECF6",
           "radialaxis": {
            "gridcolor": "white",
            "linecolor": "white",
            "ticks": ""
           }
          },
          "scene": {
           "xaxis": {
            "backgroundcolor": "#E5ECF6",
            "gridcolor": "white",
            "gridwidth": 2,
            "linecolor": "white",
            "showbackground": true,
            "ticks": "",
            "zerolinecolor": "white"
           },
           "yaxis": {
            "backgroundcolor": "#E5ECF6",
            "gridcolor": "white",
            "gridwidth": 2,
            "linecolor": "white",
            "showbackground": true,
            "ticks": "",
            "zerolinecolor": "white"
           },
           "zaxis": {
            "backgroundcolor": "#E5ECF6",
            "gridcolor": "white",
            "gridwidth": 2,
            "linecolor": "white",
            "showbackground": true,
            "ticks": "",
            "zerolinecolor": "white"
           }
          },
          "shapedefaults": {
           "line": {
            "color": "#2a3f5f"
           }
          },
          "ternary": {
           "aaxis": {
            "gridcolor": "white",
            "linecolor": "white",
            "ticks": ""
           },
           "baxis": {
            "gridcolor": "white",
            "linecolor": "white",
            "ticks": ""
           },
           "bgcolor": "#E5ECF6",
           "caxis": {
            "gridcolor": "white",
            "linecolor": "white",
            "ticks": ""
           }
          },
          "title": {
           "x": 0.05
          },
          "xaxis": {
           "automargin": true,
           "gridcolor": "white",
           "linecolor": "white",
           "ticks": "",
           "title": {
            "standoff": 15
           },
           "zerolinecolor": "white",
           "zerolinewidth": 2
          },
          "yaxis": {
           "automargin": true,
           "gridcolor": "white",
           "linecolor": "white",
           "ticks": "",
           "title": {
            "standoff": 15
           },
           "zerolinecolor": "white",
           "zerolinewidth": 2
          }
         }
        },
        "title": {
         "text": "Full graph (before disruption)"
        },
        "width": 1200
       }
      }
     },
     "metadata": {},
     "output_type": "display_data"
    },
    {
     "name": "stdout",
     "output_type": "stream",
     "text": [
      "Graph after disruption:\n",
      "Step 1: Removed node FJVL\n",
      "Largest Component Nodes: 42\n",
      "Componentes: 2\n",
      "Isolade Nodes: []\n",
      "Step 2: Removed node X4Q6\n",
      "Largest Component Nodes: 40\n",
      "Componentes: 3\n",
      "Isolade Nodes: ['YFV7']\n",
      "Step 3: Removed node H6GS\n",
      "Largest Component Nodes: 38\n",
      "Componentes: 4\n",
      "Isolade Nodes: ['HGUT', 'YFV7']\n",
      "Step 4: Removed node ANL3\n",
      "Largest Component Nodes: 37\n",
      "Componentes: 4\n",
      "Isolade Nodes: ['HGUT', 'YFV7']\n",
      "Step 5: Removed node Y1V5\n",
      "Largest Component Nodes: 31\n",
      "Componentes: 9\n",
      "Isolade Nodes: ['HGUT', 'YFV7']\n",
      "Step 6: Removed node JDH2\n",
      "Largest Component Nodes: 30\n",
      "Componentes: 9\n",
      "Isolade Nodes: ['HGUT', 'YFV7']\n",
      "Step 7: Removed node IBM9\n",
      "Largest Component Nodes: 30\n",
      "Componentes: 8\n",
      "Isolade Nodes: ['HGUT', 'N6QV', 'YFV7']\n",
      "Step 8: Removed node H2XI\n",
      "Largest Component Nodes: 27\n",
      "Componentes: 10\n",
      "Isolade Nodes: ['HGUT', 'N6QV', 'X7QG', 'HCGF', 'YFV7']\n",
      "Step 9: Removed node QRJ5\n",
      "Largest Component Nodes: 22\n",
      "Componentes: 14\n",
      "Isolade Nodes: ['HGUT', 'SZZN', 'N6QV', 'DKN3', 'X7QG', 'HCGF', 'YFV7']\n",
      "Step 10: Removed node K6DW\n",
      "Largest Component Nodes: 22\n",
      "Componentes: 13\n",
      "Isolade Nodes: ['LRYV', 'HGUT', 'SZZN', 'N6QV', 'DKN3', 'X7QG', 'HCGF', 'YFV7']\n",
      "Step 11: Removed node ZAJW\n",
      "Largest Component Nodes: 21\n",
      "Componentes: 13\n",
      "Isolade Nodes: ['LRYV', 'HGUT', 'SZZN', 'N6QV', 'DKN3', 'X7QG', 'HCGF', 'YFV7']\n",
      "Step 12: Removed node TEY6\n",
      "Largest Component Nodes: 20\n",
      "Componentes: 13\n",
      "Isolade Nodes: ['LRYV', 'HGUT', 'SZZN', 'N6QV', 'DKN3', 'X7QG', 'HCGF', 'YFV7']\n",
      "Step 13: Removed node CTTP\n",
      "Largest Component Nodes: 12\n",
      "Componentes: 20\n",
      "Isolade Nodes: ['LRYV', 'HGUT', 'SZZN', 'KGOY', 'PFGC', 'WYF7', 'O1IA', 'N6QV', 'CYAS', 'DKN3', 'X7QG', 'HCGF', 'GXHD', 'YFV7', 'ALUX']\n",
      "Step 14: Removed node Z8RI\n",
      "Largest Component Nodes: 12\n",
      "Componentes: 19\n",
      "Isolade Nodes: ['LRYV', 'HGUT', 'SZZN', 'KGOY', 'PFGC', 'WYF7', 'O1IA', 'N6QV', 'CYAS', 'DKN3', 'X7QG', 'HCGF', 'GXHD', 'YFV7', 'ALUX']\n",
      "Step 15: Removed node IMDF\n",
      "Largest Component Nodes: 7\n",
      "Componentes: 23\n",
      "Isolade Nodes: ['LRYV', 'HGUT', 'SZZN', 'KGOY', 'EWPY', 'PFGC', 'WYF7', 'O1IA', 'KVMR', 'N6QV', 'CYAS', 'DKN3', 'X7QG', 'HCGF', 'MQOT', 'GXHD', 'BBJA', 'YFV7', 'ALUX']\n",
      "Step 16: Removed node QRZA\n",
      "Largest Component Nodes: 7\n",
      "Componentes: 22\n",
      "Isolade Nodes: ['LRYV', 'HGUT', 'SZZN', 'KGOY', 'EWPY', 'PFGC', 'WYF7', 'O1IA', 'KVMR', 'N6QV', 'CYAS', 'DKN3', 'X7QG', 'HCGF', 'MQOT', 'GXHD', 'BBJA', 'YFV7', 'ALUX']\n",
      "Step 17: Removed node FREK\n",
      "Largest Component Nodes: 7\n",
      "Componentes: 21\n",
      "Isolade Nodes: ['LRYV', 'HGUT', 'SZZN', 'KGOY', 'EWPY', 'PFGC', 'WYF7', 'O1IA', 'KVMR', 'N6QV', 'CYAS', 'DKN3', 'X7QG', 'HCGF', 'MQOT', 'GXHD', 'BBJA', 'YFV7', 'ALUX']\n",
      "Step 18: Removed node EYD7\n",
      "Largest Component Nodes: 5\n",
      "Componentes: 22\n",
      "Isolade Nodes: ['LRYV', 'HGUT', 'SZZN', 'KGOY', 'EWPY', 'KGCR', 'PFGC', 'WYF7', 'O1IA', 'KVMR', 'N6QV', 'CYAS', 'DKN3', 'X7QG', 'HCGF', 'MQOT', 'GXHD', 'BBJA', 'YFV7', 'ALUX']\n"
     ]
    },
    {
     "data": {
      "application/vnd.plotly.v1+json": {
       "config": {
        "plotlyServerURL": "https://plot.ly"
       },
       "data": [
        {
         "hoverinfo": "none",
         "line": {
          "color": "gray",
          "width": 2
         },
         "mode": "lines",
         "type": "scatter3d",
         "x": [
          -0.47124446648918844,
          0.5739688533691902,
          null,
          0.29907407416404536,
          0.7018091774219967,
          null,
          -0.8353459331351969,
          -0.23052209468096657,
          null,
          -0.23052209468096657,
          0.7018091774219967,
          null,
          -0.3321939283563746,
          -0.23052209468096657,
          null
         ],
         "y": [
          0.8485074065825176,
          0.29890117530735677,
          null,
          -0.9366778573526929,
          0.051910525303540185,
          null,
          0.5179920088228668,
          0.10318587873133903,
          null,
          0.10318587873133903,
          0.051910525303540185,
          null,
          -0.5353614734483606,
          0.10318587873133903,
          null
         ],
         "z": [
          0.05319629877080187,
          -0.7701825298066939,
          null,
          0.12439332684655559,
          0.6943449516913632,
          null,
          -0.13209687583381627,
          0.9630377672015256,
          null,
          0.9630377672015256,
          0.6943449516913632,
          null,
          0.7876363096715165,
          0.9630377672015256,
          null
         ]
        },
        {
         "hoverinfo": "text",
         "marker": {
          "color": "rgba(142,202,230,0.6)",
          "line": {
           "color": "rgba(2,48,71,1)",
           "width": 3
          },
          "opacity": 0.7,
          "size": 20,
          "symbol": "circle"
         },
         "mode": "markers+text",
         "text": [
          "LRYV",
          "HGUT",
          "UOZG",
          "SZZN",
          "KGOY",
          "EWPY",
          "WSUM",
          "KGCR",
          "PFGC",
          "WYF7",
          "O1IA",
          "KVMR",
          "N6QV",
          "EQE1",
          "JIAO",
          "CYAS",
          "DKN3",
          "X7QG",
          "HCGF",
          "MQOT",
          "QWCT",
          "GXHD",
          "BBJA",
          "YFV7",
          "ALUX",
          "XDED",
          "FKTD"
         ],
         "textfont": {
          "color": "black",
          "size": 13
         },
         "textposition": "middle center",
         "type": "scatter3d",
         "x": [
          -0.057319523091321885,
          0.3130015349057711,
          -0.47124446648918844,
          0.5263734660947135,
          0.8064941976810615,
          -0.968478131486496,
          0.7018091774219967,
          -0.8233221740211719,
          -0.1787061044629299,
          -0.011204153105799346,
          0.11906032664388447,
          0.7210953713328268,
          -0.3956835290213872,
          0.29907407416404536,
          -0.8353459331351969,
          0.9438986290698576,
          0.2284023334026811,
          0.2965346168695852,
          0.36283470001759116,
          -0.40516970482718284,
          -0.23052209468096657,
          -0.8256078422324974,
          -0.5329307974772745,
          0.9110904160185103,
          -0.7359093146039268,
          0.5739688533691902,
          -0.3321939283563746
         ],
         "y": [
          0.9018664839289492,
          -0.8089961070659939,
          0.8485074065825176,
          -0.6997878056198099,
          -0.3794514797011442,
          -0.10681491557750766,
          0.051910525303540185,
          -0.18179172005341399,
          0.9028640129842488,
          0.15038524132729672,
          -0.4087937258281683,
          0.6429065109821874,
          -0.8869325962322712,
          -0.9366778573526929,
          0.5179920088228668,
          -0.2784834030260405,
          -0.275273460677304,
          0.59149672335281,
          0.8288579995758028,
          -0.7724351614307315,
          0.10318587873133903,
          -0.5835027291712352,
          0.3250314748438729,
          0.3480965878734771,
          0.3423004055684085,
          0.29890117530735677,
          -0.5353614734483606
         ],
         "z": [
          0.4350413495130182,
          -0.5188860217244115,
          0.05319629877080187,
          0.4986940631053248,
          -0.4649296303532692,
          0.2744530841973805,
          0.6943449516913632,
          -0.5680446571569108,
          -0.4043587589339851,
          -0.9999999999999999,
          -0.9200076351652564,
          0.2653688168637487,
          0.28962011748163513,
          0.12439332684655559,
          -0.13209687583381627,
          0.1430776849351009,
          0.9378331341650196,
          0.7527774297406692,
          -0.4361990411432801,
          -0.5252526271317116,
          0.9630377672015256,
          -0.05120893752023981,
          -0.803439201103025,
          -0.2296285347135846,
          0.6047601164025234,
          -0.7701825298066939,
          0.7876363096715165
         ]
        }
       ],
       "layout": {
        "height": 1000,
        "margin": {
         "b": 0,
         "l": 0,
         "r": 0,
         "t": 40
        },
        "paper_bgcolor": "rgba(0,0,0,0)",
        "plot_bgcolor": "rgba(0,0,0,0)",
        "scene": {
         "xaxis": {
          "showbackground": false,
          "showticklabels": false,
          "visible": false
         },
         "yaxis": {
          "showbackground": false,
          "showticklabels": false,
          "visible": false
         },
         "zaxis": {
          "showbackground": false,
          "showticklabels": false,
          "visible": false
         }
        },
        "showlegend": false,
        "template": {
         "data": {
          "bar": [
           {
            "error_x": {
             "color": "#2a3f5f"
            },
            "error_y": {
             "color": "#2a3f5f"
            },
            "marker": {
             "line": {
              "color": "#E5ECF6",
              "width": 0.5
             },
             "pattern": {
              "fillmode": "overlay",
              "size": 10,
              "solidity": 0.2
             }
            },
            "type": "bar"
           }
          ],
          "barpolar": [
           {
            "marker": {
             "line": {
              "color": "#E5ECF6",
              "width": 0.5
             },
             "pattern": {
              "fillmode": "overlay",
              "size": 10,
              "solidity": 0.2
             }
            },
            "type": "barpolar"
           }
          ],
          "carpet": [
           {
            "aaxis": {
             "endlinecolor": "#2a3f5f",
             "gridcolor": "white",
             "linecolor": "white",
             "minorgridcolor": "white",
             "startlinecolor": "#2a3f5f"
            },
            "baxis": {
             "endlinecolor": "#2a3f5f",
             "gridcolor": "white",
             "linecolor": "white",
             "minorgridcolor": "white",
             "startlinecolor": "#2a3f5f"
            },
            "type": "carpet"
           }
          ],
          "choropleth": [
           {
            "colorbar": {
             "outlinewidth": 0,
             "ticks": ""
            },
            "type": "choropleth"
           }
          ],
          "contour": [
           {
            "colorbar": {
             "outlinewidth": 0,
             "ticks": ""
            },
            "colorscale": [
             [
              0,
              "#0d0887"
             ],
             [
              0.1111111111111111,
              "#46039f"
             ],
             [
              0.2222222222222222,
              "#7201a8"
             ],
             [
              0.3333333333333333,
              "#9c179e"
             ],
             [
              0.4444444444444444,
              "#bd3786"
             ],
             [
              0.5555555555555556,
              "#d8576b"
             ],
             [
              0.6666666666666666,
              "#ed7953"
             ],
             [
              0.7777777777777778,
              "#fb9f3a"
             ],
             [
              0.8888888888888888,
              "#fdca26"
             ],
             [
              1,
              "#f0f921"
             ]
            ],
            "type": "contour"
           }
          ],
          "contourcarpet": [
           {
            "colorbar": {
             "outlinewidth": 0,
             "ticks": ""
            },
            "type": "contourcarpet"
           }
          ],
          "heatmap": [
           {
            "colorbar": {
             "outlinewidth": 0,
             "ticks": ""
            },
            "colorscale": [
             [
              0,
              "#0d0887"
             ],
             [
              0.1111111111111111,
              "#46039f"
             ],
             [
              0.2222222222222222,
              "#7201a8"
             ],
             [
              0.3333333333333333,
              "#9c179e"
             ],
             [
              0.4444444444444444,
              "#bd3786"
             ],
             [
              0.5555555555555556,
              "#d8576b"
             ],
             [
              0.6666666666666666,
              "#ed7953"
             ],
             [
              0.7777777777777778,
              "#fb9f3a"
             ],
             [
              0.8888888888888888,
              "#fdca26"
             ],
             [
              1,
              "#f0f921"
             ]
            ],
            "type": "heatmap"
           }
          ],
          "heatmapgl": [
           {
            "colorbar": {
             "outlinewidth": 0,
             "ticks": ""
            },
            "colorscale": [
             [
              0,
              "#0d0887"
             ],
             [
              0.1111111111111111,
              "#46039f"
             ],
             [
              0.2222222222222222,
              "#7201a8"
             ],
             [
              0.3333333333333333,
              "#9c179e"
             ],
             [
              0.4444444444444444,
              "#bd3786"
             ],
             [
              0.5555555555555556,
              "#d8576b"
             ],
             [
              0.6666666666666666,
              "#ed7953"
             ],
             [
              0.7777777777777778,
              "#fb9f3a"
             ],
             [
              0.8888888888888888,
              "#fdca26"
             ],
             [
              1,
              "#f0f921"
             ]
            ],
            "type": "heatmapgl"
           }
          ],
          "histogram": [
           {
            "marker": {
             "pattern": {
              "fillmode": "overlay",
              "size": 10,
              "solidity": 0.2
             }
            },
            "type": "histogram"
           }
          ],
          "histogram2d": [
           {
            "colorbar": {
             "outlinewidth": 0,
             "ticks": ""
            },
            "colorscale": [
             [
              0,
              "#0d0887"
             ],
             [
              0.1111111111111111,
              "#46039f"
             ],
             [
              0.2222222222222222,
              "#7201a8"
             ],
             [
              0.3333333333333333,
              "#9c179e"
             ],
             [
              0.4444444444444444,
              "#bd3786"
             ],
             [
              0.5555555555555556,
              "#d8576b"
             ],
             [
              0.6666666666666666,
              "#ed7953"
             ],
             [
              0.7777777777777778,
              "#fb9f3a"
             ],
             [
              0.8888888888888888,
              "#fdca26"
             ],
             [
              1,
              "#f0f921"
             ]
            ],
            "type": "histogram2d"
           }
          ],
          "histogram2dcontour": [
           {
            "colorbar": {
             "outlinewidth": 0,
             "ticks": ""
            },
            "colorscale": [
             [
              0,
              "#0d0887"
             ],
             [
              0.1111111111111111,
              "#46039f"
             ],
             [
              0.2222222222222222,
              "#7201a8"
             ],
             [
              0.3333333333333333,
              "#9c179e"
             ],
             [
              0.4444444444444444,
              "#bd3786"
             ],
             [
              0.5555555555555556,
              "#d8576b"
             ],
             [
              0.6666666666666666,
              "#ed7953"
             ],
             [
              0.7777777777777778,
              "#fb9f3a"
             ],
             [
              0.8888888888888888,
              "#fdca26"
             ],
             [
              1,
              "#f0f921"
             ]
            ],
            "type": "histogram2dcontour"
           }
          ],
          "mesh3d": [
           {
            "colorbar": {
             "outlinewidth": 0,
             "ticks": ""
            },
            "type": "mesh3d"
           }
          ],
          "parcoords": [
           {
            "line": {
             "colorbar": {
              "outlinewidth": 0,
              "ticks": ""
             }
            },
            "type": "parcoords"
           }
          ],
          "pie": [
           {
            "automargin": true,
            "type": "pie"
           }
          ],
          "scatter": [
           {
            "fillpattern": {
             "fillmode": "overlay",
             "size": 10,
             "solidity": 0.2
            },
            "type": "scatter"
           }
          ],
          "scatter3d": [
           {
            "line": {
             "colorbar": {
              "outlinewidth": 0,
              "ticks": ""
             }
            },
            "marker": {
             "colorbar": {
              "outlinewidth": 0,
              "ticks": ""
             }
            },
            "type": "scatter3d"
           }
          ],
          "scattercarpet": [
           {
            "marker": {
             "colorbar": {
              "outlinewidth": 0,
              "ticks": ""
             }
            },
            "type": "scattercarpet"
           }
          ],
          "scattergeo": [
           {
            "marker": {
             "colorbar": {
              "outlinewidth": 0,
              "ticks": ""
             }
            },
            "type": "scattergeo"
           }
          ],
          "scattergl": [
           {
            "marker": {
             "colorbar": {
              "outlinewidth": 0,
              "ticks": ""
             }
            },
            "type": "scattergl"
           }
          ],
          "scattermapbox": [
           {
            "marker": {
             "colorbar": {
              "outlinewidth": 0,
              "ticks": ""
             }
            },
            "type": "scattermapbox"
           }
          ],
          "scatterpolar": [
           {
            "marker": {
             "colorbar": {
              "outlinewidth": 0,
              "ticks": ""
             }
            },
            "type": "scatterpolar"
           }
          ],
          "scatterpolargl": [
           {
            "marker": {
             "colorbar": {
              "outlinewidth": 0,
              "ticks": ""
             }
            },
            "type": "scatterpolargl"
           }
          ],
          "scatterternary": [
           {
            "marker": {
             "colorbar": {
              "outlinewidth": 0,
              "ticks": ""
             }
            },
            "type": "scatterternary"
           }
          ],
          "surface": [
           {
            "colorbar": {
             "outlinewidth": 0,
             "ticks": ""
            },
            "colorscale": [
             [
              0,
              "#0d0887"
             ],
             [
              0.1111111111111111,
              "#46039f"
             ],
             [
              0.2222222222222222,
              "#7201a8"
             ],
             [
              0.3333333333333333,
              "#9c179e"
             ],
             [
              0.4444444444444444,
              "#bd3786"
             ],
             [
              0.5555555555555556,
              "#d8576b"
             ],
             [
              0.6666666666666666,
              "#ed7953"
             ],
             [
              0.7777777777777778,
              "#fb9f3a"
             ],
             [
              0.8888888888888888,
              "#fdca26"
             ],
             [
              1,
              "#f0f921"
             ]
            ],
            "type": "surface"
           }
          ],
          "table": [
           {
            "cells": {
             "fill": {
              "color": "#EBF0F8"
             },
             "line": {
              "color": "white"
             }
            },
            "header": {
             "fill": {
              "color": "#C8D4E3"
             },
             "line": {
              "color": "white"
             }
            },
            "type": "table"
           }
          ]
         },
         "layout": {
          "annotationdefaults": {
           "arrowcolor": "#2a3f5f",
           "arrowhead": 0,
           "arrowwidth": 1
          },
          "autotypenumbers": "strict",
          "coloraxis": {
           "colorbar": {
            "outlinewidth": 0,
            "ticks": ""
           }
          },
          "colorscale": {
           "diverging": [
            [
             0,
             "#8e0152"
            ],
            [
             0.1,
             "#c51b7d"
            ],
            [
             0.2,
             "#de77ae"
            ],
            [
             0.3,
             "#f1b6da"
            ],
            [
             0.4,
             "#fde0ef"
            ],
            [
             0.5,
             "#f7f7f7"
            ],
            [
             0.6,
             "#e6f5d0"
            ],
            [
             0.7,
             "#b8e186"
            ],
            [
             0.8,
             "#7fbc41"
            ],
            [
             0.9,
             "#4d9221"
            ],
            [
             1,
             "#276419"
            ]
           ],
           "sequential": [
            [
             0,
             "#0d0887"
            ],
            [
             0.1111111111111111,
             "#46039f"
            ],
            [
             0.2222222222222222,
             "#7201a8"
            ],
            [
             0.3333333333333333,
             "#9c179e"
            ],
            [
             0.4444444444444444,
             "#bd3786"
            ],
            [
             0.5555555555555556,
             "#d8576b"
            ],
            [
             0.6666666666666666,
             "#ed7953"
            ],
            [
             0.7777777777777778,
             "#fb9f3a"
            ],
            [
             0.8888888888888888,
             "#fdca26"
            ],
            [
             1,
             "#f0f921"
            ]
           ],
           "sequentialminus": [
            [
             0,
             "#0d0887"
            ],
            [
             0.1111111111111111,
             "#46039f"
            ],
            [
             0.2222222222222222,
             "#7201a8"
            ],
            [
             0.3333333333333333,
             "#9c179e"
            ],
            [
             0.4444444444444444,
             "#bd3786"
            ],
            [
             0.5555555555555556,
             "#d8576b"
            ],
            [
             0.6666666666666666,
             "#ed7953"
            ],
            [
             0.7777777777777778,
             "#fb9f3a"
            ],
            [
             0.8888888888888888,
             "#fdca26"
            ],
            [
             1,
             "#f0f921"
            ]
           ]
          },
          "colorway": [
           "#636efa",
           "#EF553B",
           "#00cc96",
           "#ab63fa",
           "#FFA15A",
           "#19d3f3",
           "#FF6692",
           "#B6E880",
           "#FF97FF",
           "#FECB52"
          ],
          "font": {
           "color": "#2a3f5f"
          },
          "geo": {
           "bgcolor": "white",
           "lakecolor": "white",
           "landcolor": "#E5ECF6",
           "showlakes": true,
           "showland": true,
           "subunitcolor": "white"
          },
          "hoverlabel": {
           "align": "left"
          },
          "hovermode": "closest",
          "mapbox": {
           "style": "light"
          },
          "paper_bgcolor": "white",
          "plot_bgcolor": "#E5ECF6",
          "polar": {
           "angularaxis": {
            "gridcolor": "white",
            "linecolor": "white",
            "ticks": ""
           },
           "bgcolor": "#E5ECF6",
           "radialaxis": {
            "gridcolor": "white",
            "linecolor": "white",
            "ticks": ""
           }
          },
          "scene": {
           "xaxis": {
            "backgroundcolor": "#E5ECF6",
            "gridcolor": "white",
            "gridwidth": 2,
            "linecolor": "white",
            "showbackground": true,
            "ticks": "",
            "zerolinecolor": "white"
           },
           "yaxis": {
            "backgroundcolor": "#E5ECF6",
            "gridcolor": "white",
            "gridwidth": 2,
            "linecolor": "white",
            "showbackground": true,
            "ticks": "",
            "zerolinecolor": "white"
           },
           "zaxis": {
            "backgroundcolor": "#E5ECF6",
            "gridcolor": "white",
            "gridwidth": 2,
            "linecolor": "white",
            "showbackground": true,
            "ticks": "",
            "zerolinecolor": "white"
           }
          },
          "shapedefaults": {
           "line": {
            "color": "#2a3f5f"
           }
          },
          "ternary": {
           "aaxis": {
            "gridcolor": "white",
            "linecolor": "white",
            "ticks": ""
           },
           "baxis": {
            "gridcolor": "white",
            "linecolor": "white",
            "ticks": ""
           },
           "bgcolor": "#E5ECF6",
           "caxis": {
            "gridcolor": "white",
            "linecolor": "white",
            "ticks": ""
           }
          },
          "title": {
           "x": 0.05
          },
          "xaxis": {
           "automargin": true,
           "gridcolor": "white",
           "linecolor": "white",
           "ticks": "",
           "title": {
            "standoff": 15
           },
           "zerolinecolor": "white",
           "zerolinewidth": 2
          },
          "yaxis": {
           "automargin": true,
           "gridcolor": "white",
           "linecolor": "white",
           "ticks": "",
           "title": {
            "standoff": 15
           },
           "zerolinecolor": "white",
           "zerolinewidth": 2
          }
         }
        },
        "title": {
         "text": "Graph after disruption"
        },
        "width": 1200
       }
      }
     },
     "metadata": {},
     "output_type": "display_data"
    }
   ],
   "source": [
    "# Usage:\n",
    "network_number = 53  # or any other network number\n",
    "disruptor = NetworkDisruptor(network_number)\n",
    "disruptor.load_best_model_params()   # Load best model parameters from CSV\n",
    "disruptor.load_ranking()             # Load ranking from pickle file\n",
    "disruptor.load_edgelist()            # Load edgelist from file\n",
    "disruptor.build_graph()              # Build the networkx graph\n",
    "\n",
    "# Print only the total number of nodes before disruption\n",
    "print(\"Graph before disruption:\")\n",
    "print(f\"Total Nodes: {disruptor.G_full.number_of_nodes()}\")\n",
    "disruptor.plot_graph(title=\"Full graph (before disruption)\")\n",
    "\n",
    "print(\"Graph after disruption:\")\n",
    "disruptor.disrupt_network()          # Disrupt the network step by step\n",
    "disruptor.plot_graph(title=\"Graph after disruption\")"
   ]
  },
  {
   "cell_type": "markdown",
   "id": "4c768330",
   "metadata": {},
   "source": [
    "## ///////////////////////////////////////////////////////////////////////////////////////"
   ]
  },
  {
   "cell_type": "code",
   "execution_count": 5,
   "id": "422e60bd",
   "metadata": {},
   "outputs": [
    {
     "name": "stdout",
     "output_type": "stream",
     "text": [
      "Python implementation: CPython\n",
      "Python version       : 3.12.7\n",
      "IPython version      : 8.27.0\n",
      "\n",
      "Compiler    : Clang 14.0.6 \n",
      "OS          : Darwin\n",
      "Release     : 24.5.0\n",
      "Machine     : x86_64\n",
      "Processor   : i386\n",
      "CPU cores   : 10\n",
      "Architecture: 64bit\n",
      "\n"
     ]
    }
   ],
   "source": [
    "%watermark -v -m"
   ]
  },
  {
   "cell_type": "code",
   "execution_count": 6,
   "id": "dcb4ed73",
   "metadata": {},
   "outputs": [
    {
     "name": "stdout",
     "output_type": "stream",
     "text": [
      "pandas  : 2.2.2\n",
      "networkx: 3.3\n",
      "numpy   : 1.26.4\n",
      "plotly  : 5.24.1\n",
      "\n"
     ]
    }
   ],
   "source": [
    "%watermark --iversions"
   ]
  }
 ],
 "metadata": {
  "kernelspec": {
   "display_name": "base",
   "language": "python",
   "name": "python3"
  },
  "language_info": {
   "codemirror_mode": {
    "name": "ipython",
    "version": 3
   },
   "file_extension": ".py",
   "mimetype": "text/x-python",
   "name": "python",
   "nbconvert_exporter": "python",
   "pygments_lexer": "ipython3",
   "version": "3.12.7"
  }
 },
 "nbformat": 4,
 "nbformat_minor": 5
}
